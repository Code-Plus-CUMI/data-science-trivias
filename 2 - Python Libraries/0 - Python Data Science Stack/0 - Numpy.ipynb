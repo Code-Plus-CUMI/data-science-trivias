{
 "cells": [
  {
   "cell_type": "markdown",
   "id": "bb4ae9a8",
   "metadata": {},
   "source": [
    "<center>\n",
    "    <h1 style=\"color:blue\">Data Science Stack - Numpy</h1>\n",
    "</center>"
   ]
  },
  {
   "cell_type": "markdown",
   "id": "ac5c7265",
   "metadata": {},
   "source": [
    "<p>Numpy is used to <b>mathematic computation</b> with arrays/vectors and matrixes. It's not very recommended to be used in Data Analysis, however, understanding how Numpy works is the basic knowledge to get started in Data Analysis.</p>\n",
    "\n",
    "<p>\n",
    "    <b>OBS.:</b> you don't have to memoorize all of the methods and functions, you'll memorize them while you study and program. Don't be a fool!!\n",
    "</p>"
   ]
  },
  {
   "cell_type": "code",
   "execution_count": 1,
   "id": "a9ced5a7",
   "metadata": {},
   "outputs": [],
   "source": [
    "import numpy as np"
   ]
  },
  {
   "cell_type": "code",
   "execution_count": 2,
   "id": "cbb23dd0",
   "metadata": {},
   "outputs": [
    {
     "data": {
      "text/plain": [
       "'1.19.5'"
      ]
     },
     "execution_count": 2,
     "metadata": {},
     "output_type": "execute_result"
    }
   ],
   "source": [
    "np.__version__"
   ]
  },
  {
   "cell_type": "markdown",
   "id": "47287084",
   "metadata": {},
   "source": [
    "<h2 style=\"color:blue\">0 - Creating Vectors and Matrixes</h2>"
   ]
  },
  {
   "cell_type": "markdown",
   "id": "0abdddd8",
   "metadata": {},
   "source": [
    "<p>- Vectors/Arrays: is multi-dimmensional; to calculate the prooduct you must use <i>a @ b</i> OR <i>np.doot(a, b)</i></p>\n",
    "<p>- Matrixes: can only be 2-D; to calculate the product you must use <i>a * b</i></p>"
   ]
  },
  {
   "cell_type": "code",
   "execution_count": 3,
   "id": "ef1ad906",
   "metadata": {},
   "outputs": [
    {
     "data": {
      "text/plain": [
       "array([[1, 2, 3],\n",
       "       [4, 5, 6],\n",
       "       [7, 8, 9]])"
      ]
     },
     "execution_count": 3,
     "metadata": {},
     "output_type": "execute_result"
    }
   ],
   "source": [
    "a = np.array([[1, 2, 3], [4, 5, 6], [7, 8, 9]])\n",
    "a"
   ]
  },
  {
   "cell_type": "code",
   "execution_count": 4,
   "id": "c55cdcdb",
   "metadata": {},
   "outputs": [
    {
     "data": {
      "text/plain": [
       "array([[1., 1., 1.],\n",
       "       [1., 1., 1.],\n",
       "       [1., 1., 1.]])"
      ]
     },
     "execution_count": 4,
     "metadata": {},
     "output_type": "execute_result"
    }
   ],
   "source": [
    "b = np.ones([3, 3])\n",
    "b"
   ]
  },
  {
   "cell_type": "code",
   "execution_count": 5,
   "id": "4ebd29b0",
   "metadata": {},
   "outputs": [
    {
     "data": {
      "text/plain": [
       "array([[0., 0., 0.],\n",
       "       [0., 0., 0.],\n",
       "       [0., 0., 0.]])"
      ]
     },
     "execution_count": 5,
     "metadata": {},
     "output_type": "execute_result"
    }
   ],
   "source": [
    "c = np.zeros([3, 3])\n",
    "c"
   ]
  },
  {
   "cell_type": "code",
   "execution_count": 6,
   "id": "0a212e02",
   "metadata": {},
   "outputs": [
    {
     "data": {
      "text/plain": [
       "array([[1., 0., 0.],\n",
       "       [0., 1., 0.],\n",
       "       [0., 0., 1.]])"
      ]
     },
     "execution_count": 6,
     "metadata": {},
     "output_type": "execute_result"
    }
   ],
   "source": [
    "d = np.eye(3)\n",
    "d"
   ]
  },
  {
   "cell_type": "code",
   "execution_count": 7,
   "id": "537001dd",
   "metadata": {},
   "outputs": [
    {
     "data": {
      "text/plain": [
       "array([[5, 0, 0],\n",
       "       [0, 5, 0],\n",
       "       [0, 0, 5]])"
      ]
     },
     "execution_count": 7,
     "metadata": {},
     "output_type": "execute_result"
    }
   ],
   "source": [
    "e = np.diag([5, 5, 5])\n",
    "e"
   ]
  },
  {
   "cell_type": "code",
   "execution_count": 8,
   "id": "a214bcb7",
   "metadata": {},
   "outputs": [
    {
     "data": {
      "text/plain": [
       "array([[0, 5, 0, 0],\n",
       "       [0, 0, 5, 0],\n",
       "       [0, 0, 0, 5],\n",
       "       [0, 0, 0, 0]])"
      ]
     },
     "execution_count": 8,
     "metadata": {},
     "output_type": "execute_result"
    }
   ],
   "source": [
    "# the second parameter determines at what column numpy will start inserting the diag values\n",
    "f = np.diag([5, 5, 5], 1)\n",
    "f"
   ]
  },
  {
   "cell_type": "code",
   "execution_count": 9,
   "id": "bdaa1a6f",
   "metadata": {},
   "outputs": [
    {
     "data": {
      "text/plain": [
       "array([0. , 2.5, 5. , 7.5])"
      ]
     },
     "execution_count": 9,
     "metadata": {},
     "output_type": "execute_result"
    }
   ],
   "source": [
    "# from first parameter to the second one assuming the third parameter as the step\n",
    "# the second parameter is exclusive\n",
    "g = np.arange(0, 10, 2.5)\n",
    "g"
   ]
  },
  {
   "cell_type": "code",
   "execution_count": 10,
   "id": "8c7200e1",
   "metadata": {},
   "outputs": [
    {
     "data": {
      "text/plain": [
       "array([[0.25229914, 0.19788177, 0.23611795],\n",
       "       [0.99744144, 0.51318653, 0.06778941],\n",
       "       [0.30018546, 0.37652789, 0.52045542],\n",
       "       [0.87270911, 0.85687147, 0.5628813 ],\n",
       "       [0.72257036, 0.33203013, 0.85474333]])"
      ]
     },
     "execution_count": 10,
     "metadata": {},
     "output_type": "execute_result"
    }
   ],
   "source": [
    "# first parameter is the number of rows, whereas the second one is the number of columns\n",
    "h = np.random.rand(5, 3)\n",
    "h"
   ]
  },
  {
   "cell_type": "code",
   "execution_count": 11,
   "id": "b3a5b06a",
   "metadata": {},
   "outputs": [
    {
     "data": {
      "text/plain": [
       "array([ 1.  ,  3.25,  5.5 ,  7.75, 10.  ])"
      ]
     },
     "execution_count": 11,
     "metadata": {},
     "output_type": "execute_result"
    }
   ],
   "source": [
    "# creates an equal distributed array\n",
    "# the first parameter is the start pooint, whereas the second one is the end point (both inclusive/non-exclusive)\n",
    "# and the third parameter is the number of elements that I want within my array\n",
    "i = np.linspace(1, 10, 5)\n",
    "i"
   ]
  },
  {
   "cell_type": "markdown",
   "id": "783c562a",
   "metadata": {},
   "source": [
    "----"
   ]
  },
  {
   "cell_type": "code",
   "execution_count": 12,
   "id": "1664ca9e",
   "metadata": {},
   "outputs": [
    {
     "data": {
      "text/plain": [
       "matrix([[1, 2, 3],\n",
       "        [4, 5, 6],\n",
       "        [7, 8, 9]])"
      ]
     },
     "execution_count": 12,
     "metadata": {},
     "output_type": "execute_result"
    }
   ],
   "source": [
    "m = np.matrix([[1, 2, 3], [4, 5, 6], [7, 8, 9]])\n",
    "m"
   ]
  },
  {
   "cell_type": "markdown",
   "id": "50089781",
   "metadata": {},
   "source": [
    "----"
   ]
  },
  {
   "cell_type": "markdown",
   "id": "2326acbb",
   "metadata": {},
   "source": [
    "<h2 style=\"color:blue\">1 - Properties and Functions</h2>"
   ]
  },
  {
   "cell_type": "code",
   "execution_count": 13,
   "id": "5d4a342a",
   "metadata": {},
   "outputs": [
    {
     "data": {
      "text/plain": [
       "array([[1, 2, 3],\n",
       "       [4, 5, 6],\n",
       "       [7, 8, 9]])"
      ]
     },
     "execution_count": 13,
     "metadata": {},
     "output_type": "execute_result"
    }
   ],
   "source": [
    "a"
   ]
  },
  {
   "cell_type": "code",
   "execution_count": 14,
   "id": "3ba441de",
   "metadata": {},
   "outputs": [
    {
     "data": {
      "text/plain": [
       "2"
      ]
     },
     "execution_count": 14,
     "metadata": {},
     "output_type": "execute_result"
    }
   ],
   "source": [
    "# returns the number of dimensions\n",
    "np.ndim(a)"
   ]
  },
  {
   "cell_type": "code",
   "execution_count": 15,
   "id": "d4147f6a",
   "metadata": {},
   "outputs": [
    {
     "data": {
      "text/plain": [
       "numpy.ndarray"
      ]
     },
     "execution_count": 15,
     "metadata": {},
     "output_type": "execute_result"
    }
   ],
   "source": [
    "# checks out the type of the object\n",
    "type(a)"
   ]
  },
  {
   "cell_type": "code",
   "execution_count": 16,
   "id": "4eba424b",
   "metadata": {},
   "outputs": [
    {
     "data": {
      "text/plain": [
       "(3, 3)"
      ]
     },
     "execution_count": 16,
     "metadata": {},
     "output_type": "execute_result"
    }
   ],
   "source": [
    "# returns the number of rows and coolumns\n",
    "a.shape"
   ]
  },
  {
   "cell_type": "code",
   "execution_count": 17,
   "id": "9a188204",
   "metadata": {},
   "outputs": [
    {
     "data": {
      "text/plain": [
       "9"
      ]
     },
     "execution_count": 17,
     "metadata": {},
     "output_type": "execute_result"
    }
   ],
   "source": [
    "# returns the amount of elements in the array\n",
    "a.size"
   ]
  },
  {
   "cell_type": "code",
   "execution_count": 18,
   "id": "bc6ffa26",
   "metadata": {},
   "outputs": [
    {
     "data": {
      "text/plain": [
       "dtype('int32')"
      ]
     },
     "execution_count": 18,
     "metadata": {},
     "output_type": "execute_result"
    }
   ],
   "source": [
    "# returns the data type of the elements (must there is just one data type)\n",
    "a.dtype"
   ]
  },
  {
   "cell_type": "code",
   "execution_count": 19,
   "id": "acbd9682",
   "metadata": {},
   "outputs": [
    {
     "name": "stdout",
     "output_type": "stream",
     "text": [
      "mean :  5.0\n",
      "stardard variation :  2.581988897471611\n",
      "variance :  6.666666666666667\n",
      "summatory :  45\n",
      "cumulative summatory :  [ 1  3  6 10 15 21 28 36 45]\n",
      "product :  362880\n",
      "cumulative product :  [     1      2      6     24    120    720   5040  40320 362880]\n"
     ]
    }
   ],
   "source": [
    "# mean, stardard variation, variance, summatory, cumulative summatory, product and cumulative product\n",
    "results = {}\n",
    "\n",
    "results['mean'] = np.mean(a)\n",
    "results['stardard variation'] = np.std(a)\n",
    "results['variance'] = np.var(a)\n",
    "results['summatory'] = np.sum(a)\n",
    "results['cumulative summatory'] = np.cumsum(a)\n",
    "results['product'] = np.prod(a)\n",
    "results['cumulative product'] = np.cumprod(a)\n",
    "\n",
    "for key, value in results.items(): print(key, ': ', value)"
   ]
  },
  {
   "cell_type": "code",
   "execution_count": 20,
   "id": "6f8e3b80",
   "metadata": {},
   "outputs": [
    {
     "name": "stdout",
     "output_type": "stream",
     "text": [
      "Without flatten method:  [50  0  3] [50  0  3]\n",
      "With flatten method:  [50  2  3] [1 0 3]\n"
     ]
    }
   ],
   "source": [
    "# copies an array to another variable\n",
    "# if you just assign on array to one variable, every modification you do in one variable\n",
    "# will happen to the another one\n",
    "a = np.array([1, 2, 3])\n",
    "b = a\n",
    "\n",
    "a[0] = 50\n",
    "b[1] = 0\n",
    "\n",
    "print('Without flatten method: ', a, b)\n",
    "\n",
    "# to avoid this problem, we can use the flatten methood\n",
    "a = np.array([1, 2, 3])\n",
    "b = a.flatten()\n",
    "\n",
    "a[0] = 50\n",
    "b[1] = 0\n",
    "\n",
    "print('With flatten method: ', a, b)"
   ]
  },
  {
   "cell_type": "code",
   "execution_count": 21,
   "id": "1b15a194",
   "metadata": {
    "scrolled": true
   },
   "outputs": [
    {
     "name": "stdout",
     "output_type": "stream",
     "text": [
      "Repeat Method:  [1 1 2 2 3 3]\n",
      "Tile Method:  [1 2 3 1 2 3]\n"
     ]
    }
   ],
   "source": [
    "# repeat >> repeats the element n times\n",
    "# tile >> repeats the whole array n times\n",
    "a = np.array([1, 2, 3])\n",
    "\n",
    "print('Repeat Method: ', np.repeat(a, 2))\n",
    "print('Tile Method: ', np.tile(a, 2))"
   ]
  },
  {
   "cell_type": "markdown",
   "id": "495e0e22",
   "metadata": {},
   "source": [
    "----"
   ]
  },
  {
   "cell_type": "markdown",
   "id": "d9443d35",
   "metadata": {},
   "source": [
    "<center>\n",
    "    <img src=\"thats all.jpg\">\n",
    "</center>"
   ]
  },
  {
   "cell_type": "code",
   "execution_count": null,
   "id": "4a95ae82",
   "metadata": {},
   "outputs": [],
   "source": []
  }
 ],
 "metadata": {
  "kernelspec": {
   "display_name": "Python 3",
   "language": "python",
   "name": "python3"
  },
  "language_info": {
   "codemirror_mode": {
    "name": "ipython",
    "version": 3
   },
   "file_extension": ".py",
   "mimetype": "text/x-python",
   "name": "python",
   "nbconvert_exporter": "python",
   "pygments_lexer": "ipython3",
   "version": "3.8.8"
  }
 },
 "nbformat": 4,
 "nbformat_minor": 5
}
