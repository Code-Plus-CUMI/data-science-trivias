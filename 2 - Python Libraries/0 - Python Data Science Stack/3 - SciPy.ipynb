{
 "cells": [
  {
   "cell_type": "markdown",
   "id": "9f6ecf33",
   "metadata": {},
   "source": [
    "<center>\n",
    "    <h1 style=\"color:blue\">Data Science Stack - SciPy</h1>\n",
    "</center>"
   ]
  },
  {
   "cell_type": "markdown",
   "id": "42c58c3f",
   "metadata": {},
   "source": [
    "<p>SciPy is a mathematical library internally composed by NumPy and applied to Data Analysis. There a tons of complex contents and functions in this module, so I don't have to memorize all of them (pleas Felix in the future, don't e afoool, love yourself 😆).</p>\n",
    "\n",
    "<p>On this notebook I've put just a few methods that I liked the most.</p>"
   ]
  },
  {
   "cell_type": "markdown",
   "id": "905d2bc0",
   "metadata": {},
   "source": [
    "<h2 style=\"color:blue\">0 - Constants</h2>"
   ]
  },
  {
   "cell_type": "code",
   "execution_count": 1,
   "id": "78d9f62c",
   "metadata": {},
   "outputs": [],
   "source": [
    "from scipy import constants"
   ]
  },
  {
   "cell_type": "code",
   "execution_count": 2,
   "id": "228f1981",
   "metadata": {},
   "outputs": [
    {
     "data": {
      "text/plain": [
       "['Avogadro',\n",
       " 'Boltzmann',\n",
       " 'Btu',\n",
       " 'Btu_IT',\n",
       " 'Btu_th',\n",
       " 'ConstantWarning',\n",
       " 'G',\n",
       " 'Julian_year',\n",
       " 'N_A',\n",
       " 'Planck',\n",
       " 'R',\n",
       " 'Rydberg',\n",
       " 'Stefan_Boltzmann',\n",
       " 'Wien',\n",
       " '__all__',\n",
       " '__builtins__',\n",
       " '__cached__',\n",
       " '__doc__',\n",
       " '__file__',\n",
       " '__loader__',\n",
       " '__name__',\n",
       " '__package__',\n",
       " '__path__',\n",
       " '__spec__',\n",
       " '_obsolete_constants',\n",
       " 'acre',\n",
       " 'alpha',\n",
       " 'angstrom',\n",
       " 'arcmin',\n",
       " 'arcminute',\n",
       " 'arcsec',\n",
       " 'arcsecond',\n",
       " 'astronomical_unit',\n",
       " 'atm',\n",
       " 'atmosphere',\n",
       " 'atomic_mass',\n",
       " 'atto',\n",
       " 'au',\n",
       " 'bar',\n",
       " 'barrel',\n",
       " 'bbl',\n",
       " 'blob',\n",
       " 'c',\n",
       " 'calorie',\n",
       " 'calorie_IT',\n",
       " 'calorie_th',\n",
       " 'carat',\n",
       " 'centi',\n",
       " 'codata',\n",
       " 'constants',\n",
       " 'convert_temperature',\n",
       " 'day',\n",
       " 'deci',\n",
       " 'degree',\n",
       " 'degree_Fahrenheit',\n",
       " 'deka',\n",
       " 'dyn',\n",
       " 'dyne',\n",
       " 'e',\n",
       " 'eV',\n",
       " 'electron_mass',\n",
       " 'electron_volt',\n",
       " 'elementary_charge',\n",
       " 'epsilon_0',\n",
       " 'erg',\n",
       " 'exa',\n",
       " 'exbi',\n",
       " 'femto',\n",
       " 'fermi',\n",
       " 'find',\n",
       " 'fine_structure',\n",
       " 'fluid_ounce',\n",
       " 'fluid_ounce_US',\n",
       " 'fluid_ounce_imp',\n",
       " 'foot',\n",
       " 'g',\n",
       " 'gallon',\n",
       " 'gallon_US',\n",
       " 'gallon_imp',\n",
       " 'gas_constant',\n",
       " 'gibi',\n",
       " 'giga',\n",
       " 'golden',\n",
       " 'golden_ratio',\n",
       " 'grain',\n",
       " 'gram',\n",
       " 'gravitational_constant',\n",
       " 'h',\n",
       " 'hbar',\n",
       " 'hectare',\n",
       " 'hecto',\n",
       " 'horsepower',\n",
       " 'hour',\n",
       " 'hp',\n",
       " 'inch',\n",
       " 'k',\n",
       " 'kgf',\n",
       " 'kibi',\n",
       " 'kilo',\n",
       " 'kilogram_force',\n",
       " 'kmh',\n",
       " 'knot',\n",
       " 'lambda2nu',\n",
       " 'lb',\n",
       " 'lbf',\n",
       " 'light_year',\n",
       " 'liter',\n",
       " 'litre',\n",
       " 'long_ton',\n",
       " 'm_e',\n",
       " 'm_n',\n",
       " 'm_p',\n",
       " 'm_u',\n",
       " 'mach',\n",
       " 'mebi',\n",
       " 'mega',\n",
       " 'metric_ton',\n",
       " 'micro',\n",
       " 'micron',\n",
       " 'mil',\n",
       " 'mile',\n",
       " 'milli',\n",
       " 'minute',\n",
       " 'mmHg',\n",
       " 'mph',\n",
       " 'mu_0',\n",
       " 'nano',\n",
       " 'nautical_mile',\n",
       " 'neutron_mass',\n",
       " 'nu2lambda',\n",
       " 'ounce',\n",
       " 'oz',\n",
       " 'parsec',\n",
       " 'pebi',\n",
       " 'peta',\n",
       " 'physical_constants',\n",
       " 'pi',\n",
       " 'pico',\n",
       " 'point',\n",
       " 'pound',\n",
       " 'pound_force',\n",
       " 'precision',\n",
       " 'proton_mass',\n",
       " 'psi',\n",
       " 'pt',\n",
       " 'short_ton',\n",
       " 'sigma',\n",
       " 'slinch',\n",
       " 'slug',\n",
       " 'speed_of_light',\n",
       " 'speed_of_sound',\n",
       " 'stone',\n",
       " 'survey_foot',\n",
       " 'survey_mile',\n",
       " 'tebi',\n",
       " 'tera',\n",
       " 'test',\n",
       " 'ton_TNT',\n",
       " 'torr',\n",
       " 'troy_ounce',\n",
       " 'troy_pound',\n",
       " 'u',\n",
       " 'unit',\n",
       " 'value',\n",
       " 'week',\n",
       " 'yard',\n",
       " 'year',\n",
       " 'yobi',\n",
       " 'yotta',\n",
       " 'zebi',\n",
       " 'zepto',\n",
       " 'zero_Celsius',\n",
       " 'zetta']"
      ]
     },
     "execution_count": 2,
     "metadata": {},
     "output_type": "execute_result"
    }
   ],
   "source": [
    "dir(constants)"
   ]
  },
  {
   "cell_type": "code",
   "execution_count": 11,
   "id": "0ba9b2a6",
   "metadata": {},
   "outputs": [
    {
     "data": {
      "text/plain": [
       "6.6743e-11"
      ]
     },
     "execution_count": 11,
     "metadata": {},
     "output_type": "execute_result"
    }
   ],
   "source": [
    "# Gravitacional Constant\n",
    "constants.G"
   ]
  },
  {
   "cell_type": "code",
   "execution_count": 12,
   "id": "9942057c",
   "metadata": {},
   "outputs": [
    {
     "data": {
      "text/plain": [
       "1.602176634e-19"
      ]
     },
     "execution_count": 12,
     "metadata": {},
     "output_type": "execute_result"
    }
   ],
   "source": [
    "# Euler's Constant\n",
    "constants.e"
   ]
  },
  {
   "cell_type": "code",
   "execution_count": 13,
   "id": "4703ffd5",
   "metadata": {},
   "outputs": [
    {
     "data": {
      "text/plain": [
       "3.141592653589793"
      ]
     },
     "execution_count": 13,
     "metadata": {},
     "output_type": "execute_result"
    }
   ],
   "source": [
    "# Literally PI \n",
    "constants.pi"
   ]
  },
  {
   "cell_type": "code",
   "execution_count": 14,
   "id": "0965f9db",
   "metadata": {},
   "outputs": [
    {
     "data": {
      "text/plain": [
       "5.670374419e-08"
      ]
     },
     "execution_count": 14,
     "metadata": {},
     "output_type": "execute_result"
    }
   ],
   "source": [
    "# Sigma Constant\n",
    "constants.sigma"
   ]
  },
  {
   "cell_type": "markdown",
   "id": "b93db890",
   "metadata": {},
   "source": [
    "----"
   ]
  },
  {
   "cell_type": "markdown",
   "id": "adafe1ff",
   "metadata": {},
   "source": [
    "<h2 style=\"color:blue\">1 - CSR Matrix</h2>\n",
    "\n",
    "<br>\n",
    "\n",
    "<p>- Dense Matrix: the most of the elements is non-zero.</p>\n",
    "<p>- Sparse Matrix: the msot of the elements is zero.</p>\n",
    "\n",
    "<br>\n",
    "\n",
    "<p>- CSR Matrix: fast for row slicing (I have used this type in the bellow examples)</p>\n",
    "<p>- CSC Matrix: fast for column slicing (I haven't used this type)</p>"
   ]
  },
  {
   "cell_type": "code",
   "execution_count": 17,
   "id": "c46e0e9e",
   "metadata": {},
   "outputs": [],
   "source": [
    "from scipy.sparse import csr_matrix\n",
    "import numpy as np"
   ]
  },
  {
   "cell_type": "code",
   "execution_count": 20,
   "id": "7f8856ab",
   "metadata": {},
   "outputs": [
    {
     "data": {
      "text/plain": [
       "array([[0, 0, 1],\n",
       "       [0, 2, 0],\n",
       "       [3, 0, 0]])"
      ]
     },
     "execution_count": 20,
     "metadata": {},
     "output_type": "execute_result"
    }
   ],
   "source": [
    "a = np.array([[0, 0, 1], [0, 2, 0], [3, 0, 0]])\n",
    "a"
   ]
  },
  {
   "cell_type": "code",
   "execution_count": 25,
   "id": "7ca527a8",
   "metadata": {},
   "outputs": [
    {
     "name": "stdout",
     "output_type": "stream",
     "text": [
      "  (0, 2)\t1\n",
      "  (1, 1)\t2\n",
      "  (2, 0)\t3\n"
     ]
    }
   ],
   "source": [
    "# when a sparse array is transformed into a csr matrix, all the zero values is ignoored\n",
    "# and just the non-zero values with the (row,, column) position are returned\n",
    "b = csr_matrix(a)\n",
    "print(b)"
   ]
  },
  {
   "cell_type": "code",
   "execution_count": 45,
   "id": "a28463ca",
   "metadata": {},
   "outputs": [
    {
     "name": "stdout",
     "output_type": "stream",
     "text": [
      "CSR Datas:  [1 2 3] \n",
      "\n",
      "Number of Non-Zeroos Elements:  3 \n",
      "\n",
      "CSR Transformed into a CSC   (2, 0)\t3\n",
      "  (1, 1)\t2\n",
      "  (0, 2)\t1 \n",
      "\n"
     ]
    }
   ],
   "source": [
    "print('CSR Datas: ', b.data, '\\n')\n",
    "print('Number of Non-Zeroos Elements: ', b.count_nonzero(), '\\n')\n",
    "print('CSR Transformed into a CSC', b.tocsc(), '\\n')"
   ]
  },
  {
   "cell_type": "markdown",
   "id": "efbef9ce",
   "metadata": {},
   "source": [
    "----"
   ]
  },
  {
   "cell_type": "markdown",
   "id": "df6c9464",
   "metadata": {},
   "source": [
    "<center>\n",
    "    <img src='thats all.jpg'>\n",
    "</center>"
   ]
  }
 ],
 "metadata": {
  "kernelspec": {
   "display_name": "Python 3",
   "language": "python",
   "name": "python3"
  },
  "language_info": {
   "codemirror_mode": {
    "name": "ipython",
    "version": 3
   },
   "file_extension": ".py",
   "mimetype": "text/x-python",
   "name": "python",
   "nbconvert_exporter": "python",
   "pygments_lexer": "ipython3",
   "version": "3.8.8"
  }
 },
 "nbformat": 4,
 "nbformat_minor": 5
}
