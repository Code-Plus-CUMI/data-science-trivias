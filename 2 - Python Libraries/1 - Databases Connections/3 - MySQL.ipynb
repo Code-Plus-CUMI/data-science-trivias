{
 "cells": [
  {
   "cell_type": "markdown",
   "id": "702f7c16",
   "metadata": {},
   "source": [
    "<h1 align=\"center\" style=\"color:blue\">DataBase Connections - MySQL</h1>\n",
    "\n",
    "<p>Tasks:</p>\n",
    "\n",
    "* Connection\n",
    "* Insert\n",
    "* Update\n",
    "* Select\n",
    "* Return\n",
    "* Delete\n",
    "* Close Connection\n",
    "\n",
    "<br>\n",
    "\n",
    "> pip install myslq-connector-python"
   ]
  },
  {
   "cell_type": "code",
   "execution_count": 1,
   "id": "c4d6fa8a",
   "metadata": {},
   "outputs": [],
   "source": [
    "import mysql.connector"
   ]
  },
  {
   "cell_type": "code",
   "execution_count": 3,
   "id": "824c7bbe",
   "metadata": {},
   "outputs": [
    {
     "data": {
      "text/plain": [
       "'8.0.29'"
      ]
     },
     "execution_count": 3,
     "metadata": {},
     "output_type": "execute_result"
    }
   ],
   "source": [
    "mysql.connector.__version__"
   ]
  },
  {
   "cell_type": "markdown",
   "id": "910250d7",
   "metadata": {},
   "source": [
    "----\n",
    "\n",
    "<h2 style=\"color:blue\">0 - Connecting</h2>"
   ]
  },
  {
   "cell_type": "code",
   "execution_count": 73,
   "id": "06d345d1",
   "metadata": {},
   "outputs": [],
   "source": [
    "# creating the connection to MySQL Server\n",
    "db = mysql.connector.connect(\n",
    "    host='localhost'\n",
    "    , user='root'\n",
    "    , password='felix00'\n",
    "    , database='scan_me_users_management'\n",
    ")"
   ]
  },
  {
   "cell_type": "code",
   "execution_count": 74,
   "id": "9fbe3677",
   "metadata": {},
   "outputs": [],
   "source": [
    "# cursor is the object that will execute the commands in the database\n",
    "# it's like the \"tx\" object when connecting in Neo4J\n",
    "cursor = db.cursor(buffered=True)"
   ]
  },
  {
   "cell_type": "markdown",
   "id": "951fe044",
   "metadata": {},
   "source": [
    "----\n",
    "\n",
    "<h2 style=\"color:blue\">1 - Inserting, Updating, Selecting, Returning and Deleting</h2>"
   ]
  },
  {
   "cell_type": "code",
   "execution_count": 75,
   "id": "73b87f3a",
   "metadata": {},
   "outputs": [
    {
     "ename": "ProgrammingError",
     "evalue": "1050 (42S01): Table 'anime_characters' already exists",
     "output_type": "error",
     "traceback": [
      "\u001b[1;31m---------------------------------------------------------------------------\u001b[0m",
      "\u001b[1;31mMySQLInterfaceError\u001b[0m                       Traceback (most recent call last)",
      "\u001b[1;32mD:\\DataScience\\Anaconda\\lib\\site-packages\\mysql\\connector\\connection_cext.py\u001b[0m in \u001b[0;36mcmd_query\u001b[1;34m(self, query, raw, buffered, raw_as_string)\u001b[0m\n\u001b[0;32m    534\u001b[0m                 \u001b[0mquery\u001b[0m \u001b[1;33m=\u001b[0m \u001b[0mquery\u001b[0m\u001b[1;33m.\u001b[0m\u001b[0mencode\u001b[0m\u001b[1;33m(\u001b[0m\u001b[1;34m'utf-8'\u001b[0m\u001b[1;33m)\u001b[0m\u001b[1;33m\u001b[0m\u001b[1;33m\u001b[0m\u001b[0m\n\u001b[1;32m--> 535\u001b[1;33m             self._cmysql.query(query,\n\u001b[0m\u001b[0;32m    536\u001b[0m                                \u001b[0mraw\u001b[0m\u001b[1;33m=\u001b[0m\u001b[0mraw\u001b[0m\u001b[1;33m,\u001b[0m \u001b[0mbuffered\u001b[0m\u001b[1;33m=\u001b[0m\u001b[0mbuffered\u001b[0m\u001b[1;33m,\u001b[0m\u001b[1;33m\u001b[0m\u001b[1;33m\u001b[0m\u001b[0m\n",
      "\u001b[1;31mMySQLInterfaceError\u001b[0m: Table 'anime_characters' already exists",
      "\nDuring handling of the above exception, another exception occurred:\n",
      "\u001b[1;31mProgrammingError\u001b[0m                          Traceback (most recent call last)",
      "\u001b[1;32m<ipython-input-75-bddbcd09ab19>\u001b[0m in \u001b[0;36m<module>\u001b[1;34m\u001b[0m\n\u001b[0;32m      1\u001b[0m \u001b[1;31m# creating a single table to use in this jupyter nootebook\u001b[0m\u001b[1;33m\u001b[0m\u001b[1;33m\u001b[0m\u001b[1;33m\u001b[0m\u001b[0m\n\u001b[1;32m----> 2\u001b[1;33m cursor.execute('CREATE TABLE anime_characters ('\n\u001b[0m\u001b[0;32m      3\u001b[0m                    \u001b[1;34m'id INTEGER PRIMARY KEY AUTO_INCREMENT'\u001b[0m\u001b[1;33m\u001b[0m\u001b[1;33m\u001b[0m\u001b[0m\n\u001b[0;32m      4\u001b[0m                    \u001b[1;34m', name VARCHAR(50)'\u001b[0m\u001b[1;33m\u001b[0m\u001b[1;33m\u001b[0m\u001b[0m\n\u001b[0;32m      5\u001b[0m                    \u001b[1;34m', anime VARCHAR(50)'\u001b[0m\u001b[1;33m\u001b[0m\u001b[1;33m\u001b[0m\u001b[0m\n",
      "\u001b[1;32mD:\\DataScience\\Anaconda\\lib\\site-packages\\mysql\\connector\\cursor_cext.py\u001b[0m in \u001b[0;36mexecute\u001b[1;34m(self, operation, params, multi)\u001b[0m\n\u001b[0;32m    267\u001b[0m \u001b[1;33m\u001b[0m\u001b[0m\n\u001b[0;32m    268\u001b[0m         \u001b[1;32mtry\u001b[0m\u001b[1;33m:\u001b[0m\u001b[1;33m\u001b[0m\u001b[1;33m\u001b[0m\u001b[0m\n\u001b[1;32m--> 269\u001b[1;33m             result = self._cnx.cmd_query(stmt, raw=self._raw,\n\u001b[0m\u001b[0;32m    270\u001b[0m                                          \u001b[0mbuffered\u001b[0m\u001b[1;33m=\u001b[0m\u001b[0mself\u001b[0m\u001b[1;33m.\u001b[0m\u001b[0m_buffered\u001b[0m\u001b[1;33m,\u001b[0m\u001b[1;33m\u001b[0m\u001b[1;33m\u001b[0m\u001b[0m\n\u001b[0;32m    271\u001b[0m                                          raw_as_string=self._raw_as_string)\n",
      "\u001b[1;32mD:\\DataScience\\Anaconda\\lib\\site-packages\\mysql\\connector\\connection_cext.py\u001b[0m in \u001b[0;36mcmd_query\u001b[1;34m(self, query, raw, buffered, raw_as_string)\u001b[0m\n\u001b[0;32m    538\u001b[0m                                query_attrs=self._query_attrs)\n\u001b[0;32m    539\u001b[0m         \u001b[1;32mexcept\u001b[0m \u001b[0mMySQLInterfaceError\u001b[0m \u001b[1;32mas\u001b[0m \u001b[0mexc\u001b[0m\u001b[1;33m:\u001b[0m\u001b[1;33m\u001b[0m\u001b[1;33m\u001b[0m\u001b[0m\n\u001b[1;32m--> 540\u001b[1;33m             raise errors.get_mysql_exception(exc.errno, msg=exc.msg,\n\u001b[0m\u001b[0;32m    541\u001b[0m                                              sqlstate=exc.sqlstate)\n\u001b[0;32m    542\u001b[0m         \u001b[1;32mexcept\u001b[0m \u001b[0mAttributeError\u001b[0m\u001b[1;33m:\u001b[0m\u001b[1;33m\u001b[0m\u001b[1;33m\u001b[0m\u001b[0m\n",
      "\u001b[1;31mProgrammingError\u001b[0m: 1050 (42S01): Table 'anime_characters' already exists"
     ]
    }
   ],
   "source": [
    "# creating a single table to use in this jupyter nootebook\n",
    "cursor.execute('CREATE TABLE anime_characters ('\n",
    "                   'id INTEGER PRIMARY KEY AUTO_INCREMENT'\n",
    "                   ', name VARCHAR(50)'\n",
    "                   ', anime VARCHAR(50)'\n",
    "               ')')"
   ]
  },
  {
   "cell_type": "code",
   "execution_count": 76,
   "id": "4c29bf74",
   "metadata": {},
   "outputs": [],
   "source": [
    "# Inserting Characters\n",
    "query_1 = 'INSERT INTO anime_characters(name, anime) VALUES(%s, %s)'\n",
    "params_1 = ('Arthur', 'Fire Force')\n",
    "\n",
    "query_2 = 'INSERT INTO anime_characters(name, anime) VALUES(%s, %s)'\n",
    "params_2 = ('Son Goku', 'Dragon Ball')\n",
    "\n",
    "query_3 = 'INSERT INTO anime_characters(name, anime) VALUES(%s, %s)'\n",
    "params_3 = ('Meliodas', 'Nanatsu no Taizai')\n",
    "\n",
    "query_4 = 'INSERT INTO anime_characters(name, anime) VALUES(%s, %s)'\n",
    "params_4 = ('Todoroki', 'Boku no Hero Academia')\n",
    "\n",
    "#################\n",
    "\n",
    "cursor.execute(query_1, params_1)\n",
    "cursor.execute(query_2, params_2)\n",
    "cursor.execute(query_3, params_3)\n",
    "cursor.execute(query_4, params_4)\n",
    "\n",
    "db.commit()"
   ]
  },
  {
   "cell_type": "code",
   "execution_count": 77,
   "id": "5838e00f",
   "metadata": {},
   "outputs": [],
   "source": [
    "# Updating Characters\n",
    "\n",
    "# Arthur >> no changes\n",
    "# Son Goku >> name to Kakarot\n",
    "# Meliodas >> anime to Four Knights of the Apoclypse\n",
    "# Todoroki >> name to Jooseph and anime to JoJo\n",
    "\n",
    "query_1 = 'UPDATE anime_characters SET name = %s WHERE name = %s'\n",
    "params_1 = ('Kakarot', 'Son Goku')\n",
    "\n",
    "query_2 = 'UPDATE anime_characters SET anime = %s WHERE name = %s'\n",
    "params_2 = ('Four Knights of the Apocalypse', 'Meliodas')\n",
    "\n",
    "query_3 = 'UPDATE anime_characters SET name = %s, anime = %s WHERE name = %s'\n",
    "params_3 = ('Joseph', 'JoJo', 'Todoroki')\n",
    "\n",
    "###############\n",
    "\n",
    "cursor.execute(query_1, params_1)\n",
    "cursor.execute(query_2, params_2)\n",
    "cursor.execute(query_3, params_3)\n",
    "\n",
    "db.commit()"
   ]
  },
  {
   "cell_type": "code",
   "execution_count": 78,
   "id": "4d1f2533",
   "metadata": {},
   "outputs": [
    {
     "name": "stdout",
     "output_type": "stream",
     "text": [
      "Id:  13\n",
      "Name:  Arthur\n",
      "Anime:  Fire Force\n",
      "\n"
     ]
    }
   ],
   "source": [
    "# Selecting One Character\n",
    "# for some reason, the tuple must have at least two elements\n",
    "# so, I've put a comma after Arthur\n",
    "\n",
    "query_1 = 'SELECT * FROM anime_characters WHERE name = %s'\n",
    "params_1 = ('Arthur',)\n",
    "\n",
    "###########\n",
    "\n",
    "cursor.execute(query_1, params_1)\n",
    "result = cursor.fetchall()\n",
    "\n",
    "for character in result:\n",
    "    print('Id: ',    result[0][0])\n",
    "    print('Name: ',  result[0][1])\n",
    "    print('Anime: ', result[0][2])\n",
    "    print()"
   ]
  },
  {
   "cell_type": "code",
   "execution_count": 79,
   "id": "b0297dc6",
   "metadata": {},
   "outputs": [
    {
     "name": "stdout",
     "output_type": "stream",
     "text": [
      "Id:  13\n",
      "Name:  Arthur\n",
      "Anime:  Fire Force\n",
      "\n",
      "Id:  14\n",
      "Name:  Kakarot\n",
      "Anime:  Dragon Ball\n",
      "\n",
      "Id:  15\n",
      "Name:  Meliodas\n",
      "Anime:  Four Knights of the Apocalypse\n",
      "\n",
      "Id:  16\n",
      "Name:  Joseph\n",
      "Anime:  JoJo\n",
      "\n"
     ]
    }
   ],
   "source": [
    "# Selecting All Characters\n",
    "query_1 = 'SELECT * FROM anime_characters'\n",
    "\n",
    "###########\n",
    "\n",
    "cursor.execute(query_1)\n",
    "result = cursor.fetchall()\n",
    "character_index = 0\n",
    "\n",
    "for characters in result:\n",
    "    print('Id: ', result[character_index][0])\n",
    "    print('Name: ', result[character_index][1])\n",
    "    print('Anime: ', result[character_index][2])\n",
    "    print()\n",
    "    \n",
    "    character_index += 1"
   ]
  },
  {
   "cell_type": "code",
   "execution_count": 80,
   "id": "62a792ba",
   "metadata": {},
   "outputs": [],
   "source": [
    "# Deleting One Character\n",
    "\n",
    "query_1 = 'DELETE FROM anime_characters WHERE name = %s'\n",
    "params_1 = ('Meliodas',)\n",
    "\n",
    "##########\n",
    "\n",
    "cursor.execute(query_1, params_1)\n",
    "db.commit()"
   ]
  },
  {
   "cell_type": "code",
   "execution_count": 81,
   "id": "940252ae",
   "metadata": {},
   "outputs": [],
   "source": [
    "# Deleting All Characters\n",
    "\n",
    "query_1 = 'DELETE FROM anime_characters'\n",
    "\n",
    "#####\n",
    "\n",
    "cursor.execute(query_1)\n",
    "db.commit()"
   ]
  },
  {
   "cell_type": "markdown",
   "id": "1a44306d",
   "metadata": {},
   "source": [
    "----\n",
    "\n",
    "<h2 style='color:blue'>2 - Closing the Connection</h2>"
   ]
  },
  {
   "cell_type": "code",
   "execution_count": 82,
   "id": "cf41662b",
   "metadata": {},
   "outputs": [
    {
     "data": {
      "text/plain": [
       "True"
      ]
     },
     "execution_count": 82,
     "metadata": {},
     "output_type": "execute_result"
    }
   ],
   "source": [
    "cursor.close()"
   ]
  },
  {
   "cell_type": "code",
   "execution_count": 83,
   "id": "8e31d181",
   "metadata": {},
   "outputs": [],
   "source": [
    "db.close()"
   ]
  },
  {
   "cell_type": "markdown",
   "id": "4026e8b0",
   "metadata": {},
   "source": [
    "----\n",
    "\n",
    "<center>\n",
    "    <img src='thats all.jpg'>\n",
    "</center>"
   ]
  },
  {
   "cell_type": "code",
   "execution_count": null,
   "id": "9e73b032",
   "metadata": {},
   "outputs": [],
   "source": []
  }
 ],
 "metadata": {
  "kernelspec": {
   "display_name": "Python 3",
   "language": "python",
   "name": "python3"
  },
  "language_info": {
   "codemirror_mode": {
    "name": "ipython",
    "version": 3
   },
   "file_extension": ".py",
   "mimetype": "text/x-python",
   "name": "python",
   "nbconvert_exporter": "python",
   "pygments_lexer": "ipython3",
   "version": "3.8.8"
  }
 },
 "nbformat": 4,
 "nbformat_minor": 5
}
