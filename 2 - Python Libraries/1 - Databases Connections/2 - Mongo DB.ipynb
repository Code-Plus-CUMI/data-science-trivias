{
 "cells": [
  {
   "cell_type": "markdown",
   "id": "5b35df97",
   "metadata": {},
   "source": [
    "<h1 align=\"center\" style=\"color:blue\">DataBase Connections - Mongo DB</h1>\n",
    "\n",
    "<p>Tasks:</p>\n",
    "\n",
    "* Connection\n",
    "* Insert\n",
    "* Update\n",
    "* Select\n",
    "* Return\n",
    "* Delete\n",
    "* Close Connection\n",
    "\n",
    "<br>\n",
    "\n",
    "> pip install pymongo"
   ]
  },
  {
   "cell_type": "code",
   "execution_count": 1,
   "id": "6b8135cb",
   "metadata": {},
   "outputs": [],
   "source": [
    "import pymongo"
   ]
  },
  {
   "cell_type": "code",
   "execution_count": 2,
   "id": "b9c3aad6",
   "metadata": {},
   "outputs": [
    {
     "data": {
      "text/plain": [
       "'4.1.1'"
      ]
     },
     "execution_count": 2,
     "metadata": {},
     "output_type": "execute_result"
    }
   ],
   "source": [
    "pymongo.__version__"
   ]
  },
  {
   "cell_type": "markdown",
   "id": "cd8a9d44",
   "metadata": {},
   "source": [
    "----\n",
    "\n",
    "<h2 style=\"color:blue\">0 - Connection</h2>"
   ]
  },
  {
   "cell_type": "code",
   "execution_count": 28,
   "id": "4cd2bef8",
   "metadata": {},
   "outputs": [],
   "source": [
    "# creating a client\n",
    "# client = pymongo.MongoClient('mongodb://localhost:27017/database_name')\n",
    "client = pymongo.MongoClient('mongodb://localhost:27017/')"
   ]
  },
  {
   "cell_type": "code",
   "execution_count": 29,
   "id": "65e8c790",
   "metadata": {},
   "outputs": [
    {
     "name": "stdout",
     "output_type": "stream",
     "text": [
      "Available Databases:  ['admin', 'chatme', 'config', 'local', 'scan_me']\n",
      "Connected into:  scan_me\n"
     ]
    }
   ],
   "source": [
    "# listing all databases and connecting to one\n",
    "# PS.: the database is only created when it has one storaged data at least\n",
    "print('Available Databases: ', client.list_database_names())\n",
    "\n",
    "db = client['scan_me']\n",
    "\n",
    "print('Connected into: ', db.name)"
   ]
  },
  {
   "cell_type": "code",
   "execution_count": 30,
   "id": "e530ec29",
   "metadata": {},
   "outputs": [
    {
     "name": "stdout",
     "output_type": "stream",
     "text": [
      "Available Collections:  ['scan_me_fotos_produtos_bucket', 'anime_characters']\n",
      "Connected into:  anime_characters\n"
     ]
    }
   ],
   "source": [
    "# listing all available collections, creating a new one and connecting to this one\n",
    "# PS.: the collection is only created when it has one storaged data at least\n",
    "print('Available Collections: ', db.list_collection_names())\n",
    "\n",
    "collection = db['anime_characters']\n",
    "\n",
    "print('Connected into: ', collection.name)"
   ]
  },
  {
   "cell_type": "markdown",
   "id": "faa1b1f6",
   "metadata": {},
   "source": [
    "----\n",
    "\n",
    "<h2 style=\"color:blue\">1 - Inserting, Updating, Selecting, Returning and Deleting Datas</h2>"
   ]
  },
  {
   "cell_type": "code",
   "execution_count": 31,
   "id": "61268521",
   "metadata": {},
   "outputs": [
    {
     "name": "stdout",
     "output_type": "stream",
     "text": [
      "0\n"
     ]
    }
   ],
   "source": [
    "# Inserting One Character and Returning its Id\n",
    "# if I don't set the \"_id\" parameter, MongoDB will create one automatically\n",
    "\n",
    "one_character = {'_id' : 0, 'name' : 'Arthur', 'anime' : 'Fire Force'}\n",
    "x = collection.insert_one(one_character)\n",
    "\n",
    "print(x.inserted_id)"
   ]
  },
  {
   "cell_type": "code",
   "execution_count": 32,
   "id": "22bffd5c",
   "metadata": {},
   "outputs": [
    {
     "name": "stdout",
     "output_type": "stream",
     "text": [
      "[1, 2, 3]\n"
     ]
    }
   ],
   "source": [
    "# Inserting Many Characters\n",
    "\n",
    "many_characters = [\n",
    "      {'_id' : 1, 'name' : 'Son Goku', 'anime' : 'Dragon Ball'}\n",
    "    , {'_id' : 2, 'name' : 'Meliodas', 'anime' : 'Nanatsu no Taizai'}\n",
    "    , {'_id' : 3, 'name' : 'Todoroki', 'anime' : 'Boku no Hero Academia'}\n",
    "]\n",
    "x = collection.insert_many(many_characters)\n",
    "\n",
    "print(x.inserted_ids)"
   ]
  },
  {
   "cell_type": "markdown",
   "id": "7aad6548",
   "metadata": {},
   "source": [
    "----"
   ]
  },
  {
   "cell_type": "code",
   "execution_count": 33,
   "id": "de198fed",
   "metadata": {},
   "outputs": [
    {
     "data": {
      "text/plain": [
       "<pymongo.results.UpdateResult at 0x282bb322280>"
      ]
     },
     "execution_count": 33,
     "metadata": {},
     "output_type": "execute_result"
    }
   ],
   "source": [
    "# Updating One Character #\n",
    "\n",
    "# Son Goku's name to Kakarot\n",
    "query_1 = {'_id' : 1}\n",
    "params_1 = {'$set' : {'name' : 'Kakarot'}}\n",
    "\n",
    "# Meliodas's anime to Four Knight of the Apocalypse\n",
    "query_2 = {'_id' : 2}\n",
    "params_2 = {'$set' : {'anime' : 'Four Knights of the Apocalypse'}}\n",
    "\n",
    "# Todoroki's name to Joseph and anime to JoJo\n",
    "query_3 = {'_id' : 3}\n",
    "params_3 = {'$set' : {'name' : 'Joseph', 'anime' : 'JoJo'}}\n",
    "\n",
    "##########\n",
    "\n",
    "collection.update_one(query_1, params_1)\n",
    "collection.update_one(query_2, params_2)\n",
    "collection.update_one(query_3, params_3)"
   ]
  },
  {
   "cell_type": "markdown",
   "id": "30ef5303",
   "metadata": {},
   "source": [
    "----"
   ]
  },
  {
   "cell_type": "code",
   "execution_count": 34,
   "id": "3c8c1de4",
   "metadata": {},
   "outputs": [
    {
     "data": {
      "text/plain": [
       "{'_id': 0, 'name': 'Arthur', 'anime': 'Fire Force'}"
      ]
     },
     "execution_count": 34,
     "metadata": {},
     "output_type": "execute_result"
    }
   ],
   "source": [
    "# Selecting One Character\n",
    "query = {'_id' : 0}\n",
    "collection.find_one(query)"
   ]
  },
  {
   "cell_type": "code",
   "execution_count": 37,
   "id": "35d5b5b6",
   "metadata": {},
   "outputs": [
    {
     "name": "stdout",
     "output_type": "stream",
     "text": [
      "Id:  0\n",
      "Name:  Arthur\n",
      "Anime:  Fire Force\n",
      "\n",
      "Id:  1\n",
      "Name:  Kakarot\n",
      "Anime:  Dragon Ball\n",
      "\n",
      "Id:  2\n",
      "Name:  Meliodas\n",
      "Anime:  Four Knights of the Apocalypse\n",
      "\n",
      "Id:  3\n",
      "Name:  Joseph\n",
      "Anime:  JoJo\n",
      "\n"
     ]
    }
   ],
   "source": [
    "# Selecting All Characters\n",
    "\n",
    "#for character in collection.find(): print(character)\n",
    "for character in collection.find(): \n",
    "    print('Id: ', character['_id'])\n",
    "    print('Name: ', character['name'])\n",
    "    print('Anime: ', character['anime'])\n",
    "    print()"
   ]
  },
  {
   "cell_type": "markdown",
   "id": "20a2e767",
   "metadata": {},
   "source": [
    "----"
   ]
  },
  {
   "cell_type": "code",
   "execution_count": 38,
   "id": "de96eec6",
   "metadata": {},
   "outputs": [
    {
     "data": {
      "text/plain": [
       "<pymongo.results.DeleteResult at 0x282bb1a2a60>"
      ]
     },
     "execution_count": 38,
     "metadata": {},
     "output_type": "execute_result"
    }
   ],
   "source": [
    "# Deleting One\n",
    "query = {'_id' : 1}\n",
    "collection.delete_one(query)"
   ]
  },
  {
   "cell_type": "code",
   "execution_count": 39,
   "id": "e93df831",
   "metadata": {},
   "outputs": [
    {
     "data": {
      "text/plain": [
       "<pymongo.results.DeleteResult at 0x282bb357280>"
      ]
     },
     "execution_count": 39,
     "metadata": {},
     "output_type": "execute_result"
    }
   ],
   "source": [
    "# Deleting Many\n",
    "query = {}\n",
    "collection.delete_many(query)"
   ]
  },
  {
   "cell_type": "markdown",
   "id": "5daae7db",
   "metadata": {},
   "source": [
    "----\n",
    "\n",
    "<h2 style=\"color:blue\">2 - Closing Connection</h2>"
   ]
  },
  {
   "cell_type": "code",
   "execution_count": 40,
   "id": "5d7f2519",
   "metadata": {},
   "outputs": [],
   "source": [
    "client.close()"
   ]
  },
  {
   "cell_type": "markdown",
   "id": "d34ae4af",
   "metadata": {},
   "source": [
    "<center>\n",
    "    <img src='thats all.jpg'>\n",
    "</center>"
   ]
  },
  {
   "cell_type": "code",
   "execution_count": null,
   "id": "f5bbbb85",
   "metadata": {},
   "outputs": [],
   "source": []
  }
 ],
 "metadata": {
  "kernelspec": {
   "display_name": "Python 3",
   "language": "python",
   "name": "python3"
  },
  "language_info": {
   "codemirror_mode": {
    "name": "ipython",
    "version": 3
   },
   "file_extension": ".py",
   "mimetype": "text/x-python",
   "name": "python",
   "nbconvert_exporter": "python",
   "pygments_lexer": "ipython3",
   "version": "3.8.8"
  }
 },
 "nbformat": 4,
 "nbformat_minor": 5
}
