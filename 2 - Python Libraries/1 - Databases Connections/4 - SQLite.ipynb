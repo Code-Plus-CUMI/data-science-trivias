{
 "cells": [
  {
   "cell_type": "markdown",
   "id": "a9ac505a",
   "metadata": {},
   "source": [
    "<h1 align=\"center\" style=\"color:blue\">DataBase Connection - SQLite</h1>\n",
    "\n",
    "<p>Tasks:</p>\n",
    "\n",
    "* Connection\n",
    "* Insert\n",
    "* Update\n",
    "* Select\n",
    "* Return\n",
    "* Delete\n",
    "* Close Connection\n",
    "\n",
    "<br>\n",
    "\n",
    "> pip install pysqlite3\n",
    "\n",
    "> sqlite3 characters.db (on cmd to create the database)"
   ]
  },
  {
   "cell_type": "code",
   "execution_count": 1,
   "id": "6e046ac9",
   "metadata": {},
   "outputs": [],
   "source": [
    "import sqlite3"
   ]
  },
  {
   "cell_type": "code",
   "execution_count": 2,
   "id": "90ab88cc",
   "metadata": {},
   "outputs": [
    {
     "data": {
      "text/plain": [
       "'2.6.0'"
      ]
     },
     "execution_count": 2,
     "metadata": {},
     "output_type": "execute_result"
    }
   ],
   "source": [
    "sqlite3.version"
   ]
  },
  {
   "cell_type": "markdown",
   "id": "3a8da90b",
   "metadata": {},
   "source": [
    "<h2 style='color:blue'>0 - Connecting</h2>"
   ]
  },
  {
   "cell_type": "code",
   "execution_count": 3,
   "id": "5ea5cb5a",
   "metadata": {},
   "outputs": [],
   "source": [
    "conn = sqlite3.connect('characters.db')"
   ]
  },
  {
   "cell_type": "markdown",
   "id": "3afe7c29",
   "metadata": {},
   "source": [
    "----\n",
    "\n",
    "<h2 style='color:blue'>1 - Inserting, Updating, Selecting, Returning and Deleting</h2>"
   ]
  },
  {
   "cell_type": "code",
   "execution_count": 4,
   "id": "a3c9342d",
   "metadata": {},
   "outputs": [
    {
     "data": {
      "text/plain": [
       "<sqlite3.Cursor at 0x255002590a0>"
      ]
     },
     "execution_count": 4,
     "metadata": {},
     "output_type": "execute_result"
    }
   ],
   "source": [
    "# Creating a Table to Store Anime Characters\n",
    "query = '''CREATE TABLE anime_characters (\n",
    "            id INTEGER PRIMARY KEY AUTOINCREMENT\n",
    "            , name VARCHAR(50)\n",
    "            , anime VARCHAR(50)\n",
    "         )'''\n",
    "\n",
    "conn.execute(query)"
   ]
  },
  {
   "cell_type": "markdown",
   "id": "80e09061",
   "metadata": {},
   "source": [
    "---"
   ]
  },
  {
   "cell_type": "code",
   "execution_count": 5,
   "id": "25596be8",
   "metadata": {},
   "outputs": [],
   "source": [
    "# Inserting Characters\n",
    "query_1 = \"INSERT INTO anime_characters(name, anime) VALUES('Arthur', 'Fire Force')\"\n",
    "query_2 = \"INSERT INTO anime_characters(name, anime) VALUES('Son Goku', 'Dragon Ball')\"\n",
    "query_3 = \"INSERT INTO anime_characters(name, anime) VALUES('Meliodas', 'Nanatsu no Taizai')\"\n",
    "query_4 = \"INSERT INTO anime_characters(name, anime) VALUES('Todoroki', 'Boku no Hero Academia')\"\n",
    "\n",
    "##########\n",
    "\n",
    "conn.execute(query_1)\n",
    "conn.execute(query_2)\n",
    "conn.execute(query_3)\n",
    "conn.execute(query_4)\n",
    "\n",
    "conn.commit()"
   ]
  },
  {
   "cell_type": "markdown",
   "id": "dcf4b3b8",
   "metadata": {},
   "source": [
    "----"
   ]
  },
  {
   "cell_type": "code",
   "execution_count": 6,
   "id": "00a22c61",
   "metadata": {},
   "outputs": [],
   "source": [
    "# Updating Characters\n",
    "\n",
    "# Arthur >> no changes\n",
    "# Son Goku >> name to Kakarot\n",
    "# Meliodas >> anime to Four Knights of the Apocalypse\n",
    "# Todoroki >> name to Joseph and anime to JoJo\n",
    "\n",
    "query_1 = \"UPDATE anime_characters SET name = 'Kakarot' WHERE name = 'Son Goku'\"\n",
    "query_2 = \"UPDATE anime_characters SET anime = 'Four Knights of the Apocalypse' WHERE name = 'Meliodas'\"\n",
    "query_3 = \"UPDATE anime_characters SET name = 'Joseph', anime = 'JoJo' WHERE name = 'Todoroki'\"\n",
    "\n",
    "###########\n",
    "\n",
    "conn.execute(query_1)\n",
    "conn.execute(query_2)\n",
    "conn.execute(query_3)\n",
    "\n",
    "conn.commit()"
   ]
  },
  {
   "cell_type": "markdown",
   "id": "c3ccb8d1",
   "metadata": {},
   "source": [
    "----"
   ]
  },
  {
   "cell_type": "code",
   "execution_count": 7,
   "id": "fdd8be8c",
   "metadata": {},
   "outputs": [
    {
     "name": "stdout",
     "output_type": "stream",
     "text": [
      "Id:  1\n",
      "Name:  Arthur\n",
      "Anime:  Fire Force\n",
      "\n",
      "Id:  2\n",
      "Name:  Kakarot\n",
      "Anime:  Dragon Ball\n",
      "\n",
      "Id:  3\n",
      "Name:  Meliodas\n",
      "Anime:  Four Knights of the Apocalypse\n",
      "\n",
      "Id:  4\n",
      "Name:  Joseph\n",
      "Anime:  JoJo\n",
      "\n"
     ]
    }
   ],
   "source": [
    "# Selecting Characters\n",
    "query_1 = \"SELECT * FROM anime_characters\"\n",
    "cursor = conn.execute(query_1)\n",
    "\n",
    "for row in cursor:\n",
    "    print('Id: ',    row[0])\n",
    "    print('Name: ',  row[1])\n",
    "    print('Anime: ', row[2])\n",
    "    print()"
   ]
  },
  {
   "cell_type": "markdown",
   "id": "8b9b81cf",
   "metadata": {},
   "source": [
    "----"
   ]
  },
  {
   "cell_type": "code",
   "execution_count": 8,
   "id": "4f467e1e",
   "metadata": {},
   "outputs": [],
   "source": [
    "# Deleting One Character\n",
    "query_1 = \"DELETE FROM anime_characters WHERE name = 'Meliodas'\"\n",
    "conn.execute(query_1)\n",
    "conn.commit()"
   ]
  },
  {
   "cell_type": "code",
   "execution_count": 9,
   "id": "ba13f66f",
   "metadata": {},
   "outputs": [],
   "source": [
    "# Deleting All Characters\n",
    "query_1 = \"DELETE FROM anime_characters\"\n",
    "conn.execute(query_1)\n",
    "conn.commit()"
   ]
  },
  {
   "cell_type": "markdown",
   "id": "b3b08b65",
   "metadata": {},
   "source": [
    "----\n",
    "\n",
    "<h2 style='color:blue'>2 - Closing the Connection</h2>"
   ]
  },
  {
   "cell_type": "code",
   "execution_count": 10,
   "id": "4018518b",
   "metadata": {},
   "outputs": [],
   "source": [
    "conn.close()"
   ]
  },
  {
   "cell_type": "markdown",
   "id": "771cdb19",
   "metadata": {},
   "source": [
    "----\n",
    "\n",
    "<center>\n",
    "    <img src='thats all.jpg'>\n",
    "</center>"
   ]
  }
 ],
 "metadata": {
  "kernelspec": {
   "display_name": "Python 3",
   "language": "python",
   "name": "python3"
  },
  "language_info": {
   "codemirror_mode": {
    "name": "ipython",
    "version": 3
   },
   "file_extension": ".py",
   "mimetype": "text/x-python",
   "name": "python",
   "nbconvert_exporter": "python",
   "pygments_lexer": "ipython3",
   "version": "3.8.8"
  }
 },
 "nbformat": 4,
 "nbformat_minor": 5
}
