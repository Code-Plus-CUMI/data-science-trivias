{
 "cells": [
  {
   "cell_type": "markdown",
   "id": "8a7b6b37",
   "metadata": {},
   "source": [
    "<center>\n",
    "    <h1 style=\"color:blue\">DataBase Connections - Redis</h1>\n",
    "</center>\n",
    "\n",
    "<p>Tasks:</p>\n",
    "\n",
    "* Connection\n",
    "* Insert\n",
    "* Update\n",
    "* Select\n",
    "* Return\n",
    "* Delete\n",
    "* Close Connection\n",
    "\n",
    "<br>\n",
    "\n",
    "> pip install redis"
   ]
  },
  {
   "cell_type": "code",
   "execution_count": 1,
   "id": "7282cafe",
   "metadata": {},
   "outputs": [],
   "source": [
    "import redis"
   ]
  },
  {
   "cell_type": "code",
   "execution_count": 2,
   "id": "fe0a3fb4",
   "metadata": {},
   "outputs": [
    {
     "data": {
      "text/plain": [
       "'4.3.1'"
      ]
     },
     "execution_count": 2,
     "metadata": {},
     "output_type": "execute_result"
    }
   ],
   "source": [
    "redis.__version__"
   ]
  },
  {
   "cell_type": "markdown",
   "id": "04330ae9",
   "metadata": {},
   "source": [
    "<h2 style=\"color:blue\">0 - Connection</h2>"
   ]
  },
  {
   "cell_type": "code",
   "execution_count": 7,
   "id": "24173f59",
   "metadata": {},
   "outputs": [],
   "source": [
    "default_host = 'localhost'\n",
    "default_port = 6379\n",
    "#default_password =\n",
    "\n",
    "r = redis.Redis(\n",
    "        host     =   default_host,\n",
    "        port     =   default_port\n",
    ")"
   ]
  },
  {
   "cell_type": "markdown",
   "id": "b3905553",
   "metadata": {},
   "source": [
    "----\n",
    "\n",
    "<h2 style=\"color:blue\">1 - Insert, Update, Select, Return and Delete</h2>"
   ]
  },
  {
   "cell_type": "code",
   "execution_count": 10,
   "id": "48359734",
   "metadata": {},
   "outputs": [],
   "source": [
    "storaged_value = None"
   ]
  },
  {
   "cell_type": "code",
   "execution_count": 15,
   "id": "57307cb0",
   "metadata": {},
   "outputs": [
    {
     "name": "stdout",
     "output_type": "stream",
     "text": [
      "b\"Hey there, I'm using Redis\"\n"
     ]
    }
   ],
   "source": [
    "# Set a single phrase and return it\n",
    "\n",
    "r.set('Phrase', 'Hey there, I\\'m using Redis')\n",
    "storaged_value = r.get('Phrase')\n",
    "\n",
    "print(storaged_value)"
   ]
  },
  {
   "cell_type": "code",
   "execution_count": 16,
   "id": "1e590e66",
   "metadata": {},
   "outputs": [
    {
     "name": "stdout",
     "output_type": "stream",
     "text": [
      "b\"What's up, I'm using Redis\"\n"
     ]
    }
   ],
   "source": [
    "# Updating  the Variable\n",
    "\n",
    "r.set('Phrase', 'What\\'s up, I\\'m using Redis')\n",
    "storaged_value = r.get('Phrase')\n",
    "\n",
    "print(storaged_value)"
   ]
  },
  {
   "cell_type": "code",
   "execution_count": 17,
   "id": "90beafb7",
   "metadata": {},
   "outputs": [
    {
     "name": "stdout",
     "output_type": "stream",
     "text": [
      "None\n"
     ]
    }
   ],
   "source": [
    "# Deleting the Variable\n",
    "\n",
    "r.delete('Phrase')\n",
    "storaged_value = r.get('Phrase')\n",
    "\n",
    "print(storaged_value)"
   ]
  },
  {
   "cell_type": "markdown",
   "id": "78780dd3",
   "metadata": {},
   "source": [
    "----\n",
    "\n",
    "<h2 style=\"color:blue\">2 - Closing the Connection</h2>"
   ]
  },
  {
   "cell_type": "markdown",
   "id": "65a8a9ec",
   "metadata": {},
   "source": [
    "<p>As far Redis uses <b>Connection Pool</b> (<i>the connectioon is saved in the memory and can be used again over the computer execution</i>) type, yoou don't have to oworry about closing the connectioon. Redis can close it automatically when you shut doown the computer or stop the Redis Service.</p>"
   ]
  },
  {
   "cell_type": "markdown",
   "id": "5308e0af",
   "metadata": {},
   "source": [
    "----"
   ]
  },
  {
   "cell_type": "markdown",
   "id": "5e55df25",
   "metadata": {},
   "source": [
    "<center>\n",
    "    <img src='thats all.jpg'>\n",
    "</center>"
   ]
  },
  {
   "cell_type": "code",
   "execution_count": null,
   "id": "e5c5707a",
   "metadata": {},
   "outputs": [],
   "source": []
  }
 ],
 "metadata": {
  "kernelspec": {
   "display_name": "Python 3",
   "language": "python",
   "name": "python3"
  },
  "language_info": {
   "codemirror_mode": {
    "name": "ipython",
    "version": 3
   },
   "file_extension": ".py",
   "mimetype": "text/x-python",
   "name": "python",
   "nbconvert_exporter": "python",
   "pygments_lexer": "ipython3",
   "version": "3.8.8"
  }
 },
 "nbformat": 4,
 "nbformat_minor": 5
}
