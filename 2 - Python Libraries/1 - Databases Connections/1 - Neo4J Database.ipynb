{
 "cells": [
  {
   "cell_type": "markdown",
   "id": "11dab29c",
   "metadata": {},
   "source": [
    "<center>\n",
    "    <h1 style=\"color:blue\">DataBase Connections - Neo4J</h1>\n",
    "</center>\n",
    "\n",
    "<p>Tasks:</p>\n",
    "\n",
    "* Connection\n",
    "* Insert\n",
    "* Update\n",
    "* Select\n",
    "* Return\n",
    "* Delete\n",
    "* Close Connection\n",
    "\n",
    "<br>\n",
    "\n",
    "> pip install neo4j"
   ]
  },
  {
   "cell_type": "code",
   "execution_count": 1,
   "id": "19989110",
   "metadata": {},
   "outputs": [],
   "source": [
    "#import neo4j\n",
    "from neo4j import GraphDatabase"
   ]
  },
  {
   "cell_type": "code",
   "execution_count": 4,
   "id": "ab0de90d",
   "metadata": {},
   "outputs": [
    {
     "data": {
      "text/plain": [
       "'4.4.3'"
      ]
     },
     "execution_count": 4,
     "metadata": {},
     "output_type": "execute_result"
    }
   ],
   "source": [
    "#neo4j.__version__"
   ]
  },
  {
   "cell_type": "markdown",
   "id": "46b418b6",
   "metadata": {},
   "source": [
    "<h2 style=\"color:blue\">0 - Opening Connection</h2>"
   ]
  },
  {
   "cell_type": "code",
   "execution_count": 9,
   "id": "57705228",
   "metadata": {},
   "outputs": [],
   "source": [
    "driver = GraphDatabase.driver('bolt://localhost:7687', auth=('neo4j', 'Sport_GeneratioN1'))"
   ]
  },
  {
   "cell_type": "markdown",
   "id": "27e72b68",
   "metadata": {},
   "source": [
    "----\n",
    "\n",
    "<h2 style=\"color:blue\">1 - Functions</h2>"
   ]
  },
  {
   "cell_type": "code",
   "execution_count": 18,
   "id": "b626e55e",
   "metadata": {},
   "outputs": [],
   "source": [
    "# creating functions\n",
    "\n",
    "def add_character(tx, character_name, anime_name):\n",
    "    '''\n",
    "    Checks whether there is a node created with the same infos:\n",
    "    - If there is, nothing happens\n",
    "    - If there is not, the node is created\n",
    "    '''\n",
    "    tx.run('MERGE (n:Character {name: $name, anime: $anime});'\n",
    "          , name=character_name, anime=anime_name)"
   ]
  },
  {
   "cell_type": "code",
   "execution_count": 20,
   "id": "2b54c776",
   "metadata": {},
   "outputs": [],
   "source": [
    "#def update_character(tx, *args):    \n",
    "def update_character(tx, character_name, new_name=None, new_anime=None):\n",
    "    '''\n",
    "    Updates Character info\n",
    "    **kwargs will bi assigned with the new character's name and anime\n",
    "    '''\n",
    "    \n",
    "    # Variables\n",
    "    actual_name = character_name\n",
    "    n_name = new_name\n",
    "    n_anime = new_anime\n",
    "    flag = None\n",
    "    \n",
    "    # Defining the Flag:\n",
    "    # - 0 >> both new name and new anime were assigned\n",
    "    # - 1 >> just new name was assigned\n",
    "    # - 2 >> just new anime was assigned\n",
    "    # - 3 >> both of the optional variables weren't assigned\n",
    "    flag = None\n",
    "    \n",
    "    if (n_name is not None and n_anime is not None): flag = 0\n",
    "    elif (n_name is not None and n_anime is None): flag = 1\n",
    "    elif (n_name is None and n_anime is not None): flag = 2\n",
    "    else: flag = 3\n",
    "        \n",
    "    # Executing the Code\n",
    "    if flag == 0:\n",
    "        tx.run('MATCH (n:Character {name: $name}) '\n",
    "               'SET n.name = $new_name, n.anime = $new_anime;'\n",
    "               , name=actual_name, new_name=n_name, new_anime=n_anime)\n",
    "        \n",
    "    elif flag == 1:\n",
    "        tx.run('MATCH (n:Character {name: $name}) '\n",
    "               'SET n.name = $new_name;'\n",
    "               , name=actual_name, new_name=n_name)\n",
    "    \n",
    "    elif flag == 2:\n",
    "        tx.run('MATCH (n:Character {name: $name}) '\n",
    "               'SET n.anime = $new_anime;'\n",
    "               , name=actual_name, new_anime=n_anime)\n",
    "    \n",
    "    else: print('No datas to update!')"
   ]
  },
  {
   "cell_type": "code",
   "execution_count": 34,
   "id": "9046d372",
   "metadata": {},
   "outputs": [],
   "source": [
    "def select_character(tx, character_name):\n",
    "    '''\n",
    "    Selects and returns a character\n",
    "    '''\n",
    "    for record in tx.run('MATCH (n:Character {name: $name}) RETURN n.name, n.anime;', name=character_name):\n",
    "        print('Name: ', record['n.name'])\n",
    "        print('Anime: ', record['n.anime'])\n",
    "        print()\n",
    "        print('*-*-*-*-*')\n",
    "        print()"
   ]
  },
  {
   "cell_type": "code",
   "execution_count": 28,
   "id": "42259608",
   "metadata": {},
   "outputs": [],
   "source": [
    "def delete_character(tx, character_name):\n",
    "    '''\n",
    "    Deletes a character from the database\n",
    "    '''\n",
    "    tx.run('MATCH (n:Character {name:$name}) '\n",
    "           'DETACH DELETE (n);'\n",
    "          , name=character_name)"
   ]
  },
  {
   "cell_type": "code",
   "execution_count": 22,
   "id": "f8247266",
   "metadata": {},
   "outputs": [],
   "source": [
    "def delete_all_characters(tx):\n",
    "    '''\n",
    "    Deletes all Noodes with Character Label\n",
    "    '''\n",
    "    tx.run('MATCH (n:Character) '\n",
    "           'DETACH DELETE (n);')"
   ]
  },
  {
   "cell_type": "markdown",
   "id": "570b344b",
   "metadata": {},
   "source": [
    "----\n",
    "\n",
    "<h2 style=\"color:blue\">2 - Inserting, Updating, Selecting, Returning and Deleting</h2>"
   ]
  },
  {
   "cell_type": "code",
   "execution_count": 38,
   "id": "a7b396a0",
   "metadata": {},
   "outputs": [
    {
     "name": "stdout",
     "output_type": "stream",
     "text": [
      "Inserting the Characters: Started\n",
      "Inserting the Characters: Wrapped Up\n",
      "\n",
      "Updating the Characters: Started\n",
      "No datas to update!\n",
      "Updating the Characters: Wrapped Up\n",
      "\n",
      "Returning the Characters: Started\n",
      "Name:  Kakarot\n",
      "Anime:  Dragon Ball\n",
      "\n",
      "*-*-*-*-*\n",
      "\n",
      "Name:  Meliodas\n",
      "Anime:  The Four Knights of the Apolypse\n",
      "\n",
      "*-*-*-*-*\n",
      "\n",
      "Name:  Joseph\n",
      "Anime:  JoJo\n",
      "\n",
      "*-*-*-*-*\n",
      "\n",
      "Name:  Arthur\n",
      "Anime:  Fire Force\n",
      "\n",
      "*-*-*-*-*\n",
      "\n",
      "Returning the Characters: Wrapped Up\n",
      "\n",
      "Deleting Meliodas: Started\n",
      "Name:  Kakarot\n",
      "Anime:  Dragon Ball\n",
      "\n",
      "*-*-*-*-*\n",
      "\n",
      "Name:  Joseph\n",
      "Anime:  JoJo\n",
      "\n",
      "*-*-*-*-*\n",
      "\n",
      "Name:  Arthur\n",
      "Anime:  Fire Force\n",
      "\n",
      "*-*-*-*-*\n",
      "\n",
      "Deleting Meliodas: Wrapped Up\n",
      "\n",
      "Deleting All Remaining Characters: Started\n",
      "Deleting All Remaining Characters: Wrapped Up\n",
      "\n"
     ]
    }
   ],
   "source": [
    "with driver.session() as session:\n",
    "    \n",
    "    # inserting four characters\n",
    "    \n",
    "    print('Inserting the Characters: Started')\n",
    "    session.write_transaction(add_character, 'Son Goku', 'Dragon Ball')\n",
    "    session.write_transaction(add_character, 'Meliodas', 'Nanatsu no Taizai')\n",
    "    session.write_transaction(add_character, 'Todoroki', 'Boku no Hero Academia')\n",
    "    session.write_transaction(add_character, 'Arthur', 'Fire Force')\n",
    "    print('Inserting the Characters: Wrapped Up\\n')\n",
    "    \n",
    "    # updating the characters\n",
    "    # - Son Goku: name changed to Kakarot\n",
    "    # - Meliodas: anime changed to The Four Knights of the Apocalypse\n",
    "    # - Todoroki: name changed to Joseph and anime changed to JoJo\n",
    "    # - Arthur: nothing\n",
    "\n",
    "    print('Updating the Characters: Started')\n",
    "    session.write_transaction(update_character, 'Son Goku', new_name='Kakarot')\n",
    "    session.write_transaction(update_character, 'Meliodas', new_anime='The Four Knights of the Apolypse')\n",
    "    session.write_transaction(update_character, 'Todoroki', new_name='Joseph', new_anime='JoJo')\n",
    "    session.write_transaction(update_character, 'Arthur')\n",
    "    print('Updating the Characters: Wrapped Up\\n')\n",
    "    \n",
    "    # returning all the anime characters in the DataBase\n",
    "    \n",
    "    print('Returning the Characters: Started')\n",
    "    session.read_transaction(select_character, 'Kakarot')\n",
    "    session.read_transaction(select_character, 'Meliodas')\n",
    "    session.read_transaction(select_character, 'Joseph')\n",
    "    session.read_transaction(select_character, 'Arthur')\n",
    "    print('Returning the Characters: Wrapped Up\\n')\n",
    "    \n",
    "    # deleting Meliodas from the DataBase\n",
    "    \n",
    "    print('Deleting Meliodas: Started')\n",
    "    session.write_transaction(delete_character, 'Meliodas')\n",
    "    \n",
    "    session.read_transaction(select_character, 'Kakarot')\n",
    "    session.read_transaction(select_character, 'Meliodas')\n",
    "    session.read_transaction(select_character, 'Joseph')\n",
    "    session.read_transaction(select_character, 'Arthur')\n",
    "    print('Deleting Meliodas: Wrapped Up\\n')\n",
    "    \n",
    "    # deleting all the character in the DataBase\n",
    "    \n",
    "    print('Deleting All Remaining Characters: Started')\n",
    "    session.write_transaction(delete_all_characters)\n",
    "    \n",
    "    session.read_transaction(select_character, 'Kakarot')\n",
    "    session.read_transaction(select_character, 'Meliodas')\n",
    "    session.read_transaction(select_character, 'Joseph')\n",
    "    session.read_transaction(select_character, 'Arthur')\n",
    "    print('Deleting All Remaining Characters: Wrapped Up\\n')"
   ]
  },
  {
   "cell_type": "markdown",
   "id": "469525fd",
   "metadata": {},
   "source": [
    "----\n",
    "\n",
    "<h2 style=\"color:blue\">3 - Closing Connection</h2>"
   ]
  },
  {
   "cell_type": "code",
   "execution_count": 39,
   "id": "a4cc3539",
   "metadata": {},
   "outputs": [],
   "source": [
    "driver.close()"
   ]
  },
  {
   "cell_type": "markdown",
   "id": "6c7bc35f",
   "metadata": {},
   "source": [
    "<center>\n",
    "    <img src='thats all.jpg'>\n",
    "</center>"
   ]
  },
  {
   "cell_type": "code",
   "execution_count": null,
   "id": "cd96cba7",
   "metadata": {},
   "outputs": [],
   "source": []
  }
 ],
 "metadata": {
  "kernelspec": {
   "display_name": "Python 3",
   "language": "python",
   "name": "python3"
  },
  "language_info": {
   "codemirror_mode": {
    "name": "ipython",
    "version": 3
   },
   "file_extension": ".py",
   "mimetype": "text/x-python",
   "name": "python",
   "nbconvert_exporter": "python",
   "pygments_lexer": "ipython3",
   "version": "3.8.8"
  }
 },
 "nbformat": 4,
 "nbformat_minor": 5
}
